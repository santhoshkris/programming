{
 "cells": [
  {
   "cell_type": "code",
   "execution_count": 3,
   "id": "2e3d8125",
   "metadata": {},
   "outputs": [
    {
     "name": "stdout",
     "output_type": "stream",
     "text": [
      "hello\n"
     ]
    }
   ],
   "source": [
    "print (\"hello\")"
   ]
  },
  {
   "cell_type": "code",
   "execution_count": 4,
   "id": "f4a6a745",
   "metadata": {},
   "outputs": [
    {
     "name": "stdout",
     "output_type": "stream",
     "text": [
      "what is this San\n"
     ]
    }
   ],
   "source": [
    "name = \"San\"\n",
    "print(f\"what is this {name}\")"
   ]
  },
  {
   "cell_type": "code",
   "execution_count": 2,
   "id": "9fa73fc2",
   "metadata": {},
   "outputs": [
    {
     "name": "stdin",
     "output_type": "stream",
     "text": [
      "What's your name?:  santhosh\n"
     ]
    },
    {
     "name": "stdout",
     "output_type": "stream",
     "text": [
      "Hello santhosh\n"
     ]
    }
   ],
   "source": [
    "name = input(\"What's your name?: \")\n",
    "print(f\"Hello {name}\")"
   ]
  },
  {
   "cell_type": "code",
   "execution_count": 1,
   "id": "2441bb0a-48bd-456b-b40d-4ed6de891940",
   "metadata": {},
   "outputs": [],
   "source": [
    "import pandas as pd"
   ]
  },
  {
   "cell_type": "code",
   "execution_count": 4,
   "id": "f6efc368-f9b7-4867-8b95-6a327686c778",
   "metadata": {},
   "outputs": [],
   "source": [
    "axis_df = pd.read_excel(\"~/Downloads/Axis-Data.xlsx\")"
   ]
  },
  {
   "cell_type": "code",
   "execution_count": 5,
   "id": "6e295712-aa45-4401-9e59-103711ee42a2",
   "metadata": {},
   "outputs": [
    {
     "data": {
      "text/html": [
       "<div>\n",
       "<style scoped>\n",
       "    .dataframe tbody tr th:only-of-type {\n",
       "        vertical-align: middle;\n",
       "    }\n",
       "\n",
       "    .dataframe tbody tr th {\n",
       "        vertical-align: top;\n",
       "    }\n",
       "\n",
       "    .dataframe thead th {\n",
       "        text-align: right;\n",
       "    }\n",
       "</style>\n",
       "<table border=\"1\" class=\"dataframe\">\n",
       "  <thead>\n",
       "    <tr style=\"text-align: right;\">\n",
       "      <th></th>\n",
       "      <th>Issue key</th>\n",
       "      <th>Created</th>\n",
       "      <th>Updated</th>\n",
       "      <th>Year</th>\n",
       "      <th>Custom field (Epic Link)</th>\n",
       "      <th>Custom field (Epic Name)</th>\n",
       "      <th>Custom field (Product)</th>\n",
       "      <th>Project key</th>\n",
       "      <th>Project name</th>\n",
       "      <th>Project type</th>\n",
       "      <th>Project lead</th>\n",
       "      <th>Project description</th>\n",
       "      <th>Issue Type</th>\n",
       "      <th>Priority</th>\n",
       "    </tr>\n",
       "  </thead>\n",
       "  <tbody>\n",
       "    <tr>\n",
       "      <th>0</th>\n",
       "      <td>MAX-5785</td>\n",
       "      <td>2020-06-25 11:17:00</td>\n",
       "      <td>2021-08-18 13:25:00</td>\n",
       "      <td>2020</td>\n",
       "      <td>MAX-6137</td>\n",
       "      <td>NaN</td>\n",
       "      <td>Phygital</td>\n",
       "      <td>MAX</td>\n",
       "      <td>mAXImuS</td>\n",
       "      <td>software</td>\n",
       "      <td>270002</td>\n",
       "      <td>Retail lending platform</td>\n",
       "      <td>Story</td>\n",
       "      <td>Highest</td>\n",
       "    </tr>\n",
       "    <tr>\n",
       "      <th>1</th>\n",
       "      <td>MAX-6273</td>\n",
       "      <td>2020-08-14 09:29:00</td>\n",
       "      <td>2022-07-20 15:14:00</td>\n",
       "      <td>2020</td>\n",
       "      <td>MAX-6137</td>\n",
       "      <td>NaN</td>\n",
       "      <td>PL</td>\n",
       "      <td>MAX</td>\n",
       "      <td>mAXImuS</td>\n",
       "      <td>software</td>\n",
       "      <td>270002</td>\n",
       "      <td>Retail lending platform</td>\n",
       "      <td>Story</td>\n",
       "      <td>Highest</td>\n",
       "    </tr>\n",
       "    <tr>\n",
       "      <th>2</th>\n",
       "      <td>MAX-6446</td>\n",
       "      <td>2020-09-01 11:12:00</td>\n",
       "      <td>2022-03-16 16:51:00</td>\n",
       "      <td>2020</td>\n",
       "      <td>MAX-6107</td>\n",
       "      <td>NaN</td>\n",
       "      <td>PL</td>\n",
       "      <td>MAX</td>\n",
       "      <td>mAXImuS</td>\n",
       "      <td>software</td>\n",
       "      <td>270002</td>\n",
       "      <td>Retail lending platform</td>\n",
       "      <td>Story</td>\n",
       "      <td>Highest</td>\n",
       "    </tr>\n",
       "    <tr>\n",
       "      <th>3</th>\n",
       "      <td>MAX-6560</td>\n",
       "      <td>2020-09-10 08:19:00</td>\n",
       "      <td>2022-05-02 15:24:00</td>\n",
       "      <td>2020</td>\n",
       "      <td>MAX-6137</td>\n",
       "      <td>NaN</td>\n",
       "      <td>Phygital</td>\n",
       "      <td>MAX</td>\n",
       "      <td>mAXImuS</td>\n",
       "      <td>software</td>\n",
       "      <td>270002</td>\n",
       "      <td>Retail lending platform</td>\n",
       "      <td>Story</td>\n",
       "      <td>Highest</td>\n",
       "    </tr>\n",
       "    <tr>\n",
       "      <th>4</th>\n",
       "      <td>MAX-6742</td>\n",
       "      <td>2020-09-28 09:35:00</td>\n",
       "      <td>2021-08-18 13:25:00</td>\n",
       "      <td>2020</td>\n",
       "      <td>MAX-6107</td>\n",
       "      <td>NaN</td>\n",
       "      <td>PL</td>\n",
       "      <td>MAX</td>\n",
       "      <td>mAXImuS</td>\n",
       "      <td>software</td>\n",
       "      <td>270002</td>\n",
       "      <td>Retail lending platform</td>\n",
       "      <td>Story</td>\n",
       "      <td>Highest</td>\n",
       "    </tr>\n",
       "    <tr>\n",
       "      <th>...</th>\n",
       "      <td>...</td>\n",
       "      <td>...</td>\n",
       "      <td>...</td>\n",
       "      <td>...</td>\n",
       "      <td>...</td>\n",
       "      <td>...</td>\n",
       "      <td>...</td>\n",
       "      <td>...</td>\n",
       "      <td>...</td>\n",
       "      <td>...</td>\n",
       "      <td>...</td>\n",
       "      <td>...</td>\n",
       "      <td>...</td>\n",
       "      <td>...</td>\n",
       "    </tr>\n",
       "    <tr>\n",
       "      <th>529</th>\n",
       "      <td>CCM-2697</td>\n",
       "      <td>2022-11-11 14:42:00</td>\n",
       "      <td>2022-11-25 20:06:00</td>\n",
       "      <td>2022</td>\n",
       "      <td>CCM-2203</td>\n",
       "      <td>NaN</td>\n",
       "      <td>Credit Card</td>\n",
       "      <td>CCM</td>\n",
       "      <td>Credit Cards</td>\n",
       "      <td>software</td>\n",
       "      <td>adiganesh.k</td>\n",
       "      <td>Cards &amp; Payments\\n \\n\\n IT Project modified to...</td>\n",
       "      <td>Story</td>\n",
       "      <td>Critical</td>\n",
       "    </tr>\n",
       "    <tr>\n",
       "      <th>530</th>\n",
       "      <td>CCM-2698</td>\n",
       "      <td>2022-11-11 14:44:00</td>\n",
       "      <td>2022-11-28 09:57:00</td>\n",
       "      <td>2022</td>\n",
       "      <td>CCM-2203</td>\n",
       "      <td>NaN</td>\n",
       "      <td>Credit Card</td>\n",
       "      <td>CCM</td>\n",
       "      <td>Credit Cards</td>\n",
       "      <td>software</td>\n",
       "      <td>adiganesh.k</td>\n",
       "      <td>Cards &amp; Payments\\n \\n\\n IT Project modified to...</td>\n",
       "      <td>Story</td>\n",
       "      <td>Critical</td>\n",
       "    </tr>\n",
       "    <tr>\n",
       "      <th>531</th>\n",
       "      <td>CCM-2722</td>\n",
       "      <td>2022-11-22 16:20:00</td>\n",
       "      <td>2022-11-23 11:20:00</td>\n",
       "      <td>2022</td>\n",
       "      <td>NaN</td>\n",
       "      <td>NaN</td>\n",
       "      <td>Credit Card</td>\n",
       "      <td>CCM</td>\n",
       "      <td>Credit Cards</td>\n",
       "      <td>software</td>\n",
       "      <td>adiganesh.k</td>\n",
       "      <td>Cards &amp; Payments\\n \\n\\n IT Project modified to...</td>\n",
       "      <td>Task</td>\n",
       "      <td>Critical</td>\n",
       "    </tr>\n",
       "    <tr>\n",
       "      <th>532</th>\n",
       "      <td>CCM-2725</td>\n",
       "      <td>2022-11-23 16:25:00</td>\n",
       "      <td>2022-11-28 11:30:00</td>\n",
       "      <td>2022</td>\n",
       "      <td>CCM-2447</td>\n",
       "      <td>NaN</td>\n",
       "      <td>Credit Card</td>\n",
       "      <td>CCM</td>\n",
       "      <td>Credit Cards</td>\n",
       "      <td>software</td>\n",
       "      <td>adiganesh.k</td>\n",
       "      <td>Cards &amp; Payments\\n \\n\\n IT Project modified to...</td>\n",
       "      <td>Bug</td>\n",
       "      <td>Critical</td>\n",
       "    </tr>\n",
       "    <tr>\n",
       "      <th>533</th>\n",
       "      <td>CCM-2732</td>\n",
       "      <td>2022-11-28 11:29:00</td>\n",
       "      <td>2022-11-28 11:31:00</td>\n",
       "      <td>2022</td>\n",
       "      <td>CCM-437</td>\n",
       "      <td>NaN</td>\n",
       "      <td>Credit Card</td>\n",
       "      <td>CCM</td>\n",
       "      <td>Credit Cards</td>\n",
       "      <td>software</td>\n",
       "      <td>adiganesh.k</td>\n",
       "      <td>Cards &amp; Payments\\n \\n\\n IT Project modified to...</td>\n",
       "      <td>Story</td>\n",
       "      <td>Critical</td>\n",
       "    </tr>\n",
       "  </tbody>\n",
       "</table>\n",
       "<p>534 rows × 14 columns</p>\n",
       "</div>"
      ],
      "text/plain": [
       "    Issue key             Created             Updated  Year  \\\n",
       "0    MAX-5785 2020-06-25 11:17:00 2021-08-18 13:25:00  2020   \n",
       "1    MAX-6273 2020-08-14 09:29:00 2022-07-20 15:14:00  2020   \n",
       "2    MAX-6446 2020-09-01 11:12:00 2022-03-16 16:51:00  2020   \n",
       "3    MAX-6560 2020-09-10 08:19:00 2022-05-02 15:24:00  2020   \n",
       "4    MAX-6742 2020-09-28 09:35:00 2021-08-18 13:25:00  2020   \n",
       "..        ...                 ...                 ...   ...   \n",
       "529  CCM-2697 2022-11-11 14:42:00 2022-11-25 20:06:00  2022   \n",
       "530  CCM-2698 2022-11-11 14:44:00 2022-11-28 09:57:00  2022   \n",
       "531  CCM-2722 2022-11-22 16:20:00 2022-11-23 11:20:00  2022   \n",
       "532  CCM-2725 2022-11-23 16:25:00 2022-11-28 11:30:00  2022   \n",
       "533  CCM-2732 2022-11-28 11:29:00 2022-11-28 11:31:00  2022   \n",
       "\n",
       "    Custom field (Epic Link) Custom field (Epic Name) Custom field (Product)  \\\n",
       "0                   MAX-6137                      NaN               Phygital   \n",
       "1                   MAX-6137                      NaN                     PL   \n",
       "2                   MAX-6107                      NaN                     PL   \n",
       "3                   MAX-6137                      NaN               Phygital   \n",
       "4                   MAX-6107                      NaN                     PL   \n",
       "..                       ...                      ...                    ...   \n",
       "529                 CCM-2203                      NaN            Credit Card   \n",
       "530                 CCM-2203                      NaN            Credit Card   \n",
       "531                      NaN                      NaN            Credit Card   \n",
       "532                 CCM-2447                      NaN            Credit Card   \n",
       "533                  CCM-437                      NaN            Credit Card   \n",
       "\n",
       "    Project key  Project name Project type Project lead  \\\n",
       "0           MAX       mAXImuS     software       270002   \n",
       "1           MAX       mAXImuS     software       270002   \n",
       "2           MAX       mAXImuS     software       270002   \n",
       "3           MAX       mAXImuS     software       270002   \n",
       "4           MAX       mAXImuS     software       270002   \n",
       "..          ...           ...          ...          ...   \n",
       "529         CCM  Credit Cards     software  adiganesh.k   \n",
       "530         CCM  Credit Cards     software  adiganesh.k   \n",
       "531         CCM  Credit Cards     software  adiganesh.k   \n",
       "532         CCM  Credit Cards     software  adiganesh.k   \n",
       "533         CCM  Credit Cards     software  adiganesh.k   \n",
       "\n",
       "                                   Project description Issue Type  Priority  \n",
       "0                              Retail lending platform      Story   Highest  \n",
       "1                              Retail lending platform      Story   Highest  \n",
       "2                              Retail lending platform      Story   Highest  \n",
       "3                              Retail lending platform      Story   Highest  \n",
       "4                              Retail lending platform      Story   Highest  \n",
       "..                                                 ...        ...       ...  \n",
       "529  Cards & Payments\\n \\n\\n IT Project modified to...      Story  Critical  \n",
       "530  Cards & Payments\\n \\n\\n IT Project modified to...      Story  Critical  \n",
       "531  Cards & Payments\\n \\n\\n IT Project modified to...       Task  Critical  \n",
       "532  Cards & Payments\\n \\n\\n IT Project modified to...        Bug  Critical  \n",
       "533  Cards & Payments\\n \\n\\n IT Project modified to...      Story  Critical  \n",
       "\n",
       "[534 rows x 14 columns]"
      ]
     },
     "execution_count": 5,
     "metadata": {},
     "output_type": "execute_result"
    }
   ],
   "source": [
    "axis_df"
   ]
  },
  {
   "cell_type": "code",
   "execution_count": 20,
   "id": "63547f67-1010-4e5a-a1c9-a259a4317edf",
   "metadata": {},
   "outputs": [
    {
     "data": {
      "text/html": [
       "<div>\n",
       "<style scoped>\n",
       "    .dataframe tbody tr th:only-of-type {\n",
       "        vertical-align: middle;\n",
       "    }\n",
       "\n",
       "    .dataframe tbody tr th {\n",
       "        vertical-align: top;\n",
       "    }\n",
       "\n",
       "    .dataframe thead th {\n",
       "        text-align: right;\n",
       "    }\n",
       "</style>\n",
       "<table border=\"1\" class=\"dataframe\">\n",
       "  <thead>\n",
       "    <tr style=\"text-align: right;\">\n",
       "      <th>Custom field (Product)</th>\n",
       "      <th>AL</th>\n",
       "      <th>AL Top Up</th>\n",
       "      <th>Credit Card</th>\n",
       "      <th>ETB API</th>\n",
       "      <th>HL</th>\n",
       "      <th>HL Adoption</th>\n",
       "      <th>KTB</th>\n",
       "      <th>LAS</th>\n",
       "      <th>OD</th>\n",
       "      <th>PL</th>\n",
       "      <th>Phygital</th>\n",
       "      <th>Platform</th>\n",
       "      <th>Testing</th>\n",
       "      <th>Two Wheeler</th>\n",
       "    </tr>\n",
       "    <tr>\n",
       "      <th>Priority</th>\n",
       "      <th></th>\n",
       "      <th></th>\n",
       "      <th></th>\n",
       "      <th></th>\n",
       "      <th></th>\n",
       "      <th></th>\n",
       "      <th></th>\n",
       "      <th></th>\n",
       "      <th></th>\n",
       "      <th></th>\n",
       "      <th></th>\n",
       "      <th></th>\n",
       "      <th></th>\n",
       "      <th></th>\n",
       "    </tr>\n",
       "  </thead>\n",
       "  <tbody>\n",
       "    <tr>\n",
       "      <th>Critical</th>\n",
       "      <td>31</td>\n",
       "      <td>4</td>\n",
       "      <td>84</td>\n",
       "      <td>0</td>\n",
       "      <td>9</td>\n",
       "      <td>0</td>\n",
       "      <td>0</td>\n",
       "      <td>13</td>\n",
       "      <td>4</td>\n",
       "      <td>40</td>\n",
       "      <td>6</td>\n",
       "      <td>38</td>\n",
       "      <td>0</td>\n",
       "      <td>2</td>\n",
       "    </tr>\n",
       "    <tr>\n",
       "      <th>High</th>\n",
       "      <td>7</td>\n",
       "      <td>0</td>\n",
       "      <td>3</td>\n",
       "      <td>5</td>\n",
       "      <td>4</td>\n",
       "      <td>0</td>\n",
       "      <td>0</td>\n",
       "      <td>0</td>\n",
       "      <td>4</td>\n",
       "      <td>9</td>\n",
       "      <td>1</td>\n",
       "      <td>9</td>\n",
       "      <td>0</td>\n",
       "      <td>0</td>\n",
       "    </tr>\n",
       "    <tr>\n",
       "      <th>Highest</th>\n",
       "      <td>10</td>\n",
       "      <td>1</td>\n",
       "      <td>0</td>\n",
       "      <td>11</td>\n",
       "      <td>6</td>\n",
       "      <td>2</td>\n",
       "      <td>4</td>\n",
       "      <td>0</td>\n",
       "      <td>5</td>\n",
       "      <td>34</td>\n",
       "      <td>6</td>\n",
       "      <td>15</td>\n",
       "      <td>1</td>\n",
       "      <td>1</td>\n",
       "    </tr>\n",
       "    <tr>\n",
       "      <th>Low</th>\n",
       "      <td>1</td>\n",
       "      <td>0</td>\n",
       "      <td>10</td>\n",
       "      <td>0</td>\n",
       "      <td>2</td>\n",
       "      <td>0</td>\n",
       "      <td>0</td>\n",
       "      <td>0</td>\n",
       "      <td>0</td>\n",
       "      <td>5</td>\n",
       "      <td>0</td>\n",
       "      <td>2</td>\n",
       "      <td>0</td>\n",
       "      <td>0</td>\n",
       "    </tr>\n",
       "    <tr>\n",
       "      <th>Medium</th>\n",
       "      <td>11</td>\n",
       "      <td>7</td>\n",
       "      <td>27</td>\n",
       "      <td>5</td>\n",
       "      <td>8</td>\n",
       "      <td>13</td>\n",
       "      <td>2</td>\n",
       "      <td>2</td>\n",
       "      <td>5</td>\n",
       "      <td>24</td>\n",
       "      <td>1</td>\n",
       "      <td>28</td>\n",
       "      <td>1</td>\n",
       "      <td>0</td>\n",
       "    </tr>\n",
       "  </tbody>\n",
       "</table>\n",
       "</div>"
      ],
      "text/plain": [
       "Custom field (Product)  AL  AL Top Up  Credit Card  ETB API  HL  HL Adoption  \\\n",
       "Priority                                                                       \n",
       "Critical                31          4           84        0   9            0   \n",
       "High                     7          0            3        5   4            0   \n",
       "Highest                 10          1            0       11   6            2   \n",
       "Low                      1          0           10        0   2            0   \n",
       "Medium                  11          7           27        5   8           13   \n",
       "\n",
       "Custom field (Product)  KTB  LAS  OD  PL  Phygital  Platform  Testing  \\\n",
       "Priority                                                                \n",
       "Critical                  0   13   4  40         6        38        0   \n",
       "High                      0    0   4   9         1         9        0   \n",
       "Highest                   4    0   5  34         6        15        1   \n",
       "Low                       0    0   0   5         0         2        0   \n",
       "Medium                    2    2   5  24         1        28        1   \n",
       "\n",
       "Custom field (Product)  Two Wheeler  \n",
       "Priority                             \n",
       "Critical                          2  \n",
       "High                              0  \n",
       "Highest                           1  \n",
       "Low                               0  \n",
       "Medium                            0  "
      ]
     },
     "execution_count": 20,
     "metadata": {},
     "output_type": "execute_result"
    }
   ],
   "source": [
    "axis_df.pivot_table(index=\"Priority\", columns=\"Custom field (Product)\", values=\"Created\", fill_value=0, aggfunc=\"count\")"
   ]
  },
  {
   "cell_type": "code",
   "execution_count": 24,
   "id": "eda13883-9ac2-456a-af74-a5a4d6bc330e",
   "metadata": {},
   "outputs": [],
   "source": [
    "incidents_by_year=axis_df.pivot_table(index=\"Priority\", columns=\"Year\", values=\"Custom field (Product)\", aggfunc=\"count\")"
   ]
  },
  {
   "cell_type": "code",
   "execution_count": 89,
   "id": "b5bd626c-26e3-49df-b982-2ae47c7bfe9e",
   "metadata": {},
   "outputs": [
    {
     "data": {
      "text/html": [
       "<div>\n",
       "<style scoped>\n",
       "    .dataframe tbody tr th:only-of-type {\n",
       "        vertical-align: middle;\n",
       "    }\n",
       "\n",
       "    .dataframe tbody tr th {\n",
       "        vertical-align: top;\n",
       "    }\n",
       "\n",
       "    .dataframe thead tr th {\n",
       "        text-align: left;\n",
       "    }\n",
       "\n",
       "    .dataframe thead tr:last-of-type th {\n",
       "        text-align: right;\n",
       "    }\n",
       "</style>\n",
       "<table border=\"1\" class=\"dataframe\">\n",
       "  <thead>\n",
       "    <tr>\n",
       "      <th></th>\n",
       "      <th colspan=\"3\" halign=\"left\">len</th>\n",
       "    </tr>\n",
       "    <tr>\n",
       "      <th>Year</th>\n",
       "      <th>2020</th>\n",
       "      <th>2021</th>\n",
       "      <th>2022</th>\n",
       "    </tr>\n",
       "    <tr>\n",
       "      <th>Priority</th>\n",
       "      <th></th>\n",
       "      <th></th>\n",
       "      <th></th>\n",
       "    </tr>\n",
       "  </thead>\n",
       "  <tbody>\n",
       "    <tr>\n",
       "      <th>Critical</th>\n",
       "      <td>NaN</td>\n",
       "      <td>112.0</td>\n",
       "      <td>129.0</td>\n",
       "    </tr>\n",
       "    <tr>\n",
       "      <th>High</th>\n",
       "      <td>1.0</td>\n",
       "      <td>30.0</td>\n",
       "      <td>11.0</td>\n",
       "    </tr>\n",
       "    <tr>\n",
       "      <th>Highest</th>\n",
       "      <td>12.0</td>\n",
       "      <td>83.0</td>\n",
       "      <td>1.0</td>\n",
       "    </tr>\n",
       "    <tr>\n",
       "      <th>Low</th>\n",
       "      <td>NaN</td>\n",
       "      <td>17.0</td>\n",
       "      <td>3.0</td>\n",
       "    </tr>\n",
       "    <tr>\n",
       "      <th>Medium</th>\n",
       "      <td>2.0</td>\n",
       "      <td>100.0</td>\n",
       "      <td>33.0</td>\n",
       "    </tr>\n",
       "  </tbody>\n",
       "</table>\n",
       "</div>"
      ],
      "text/plain": [
       "           len              \n",
       "Year      2020   2021   2022\n",
       "Priority                    \n",
       "Critical   NaN  112.0  129.0\n",
       "High       1.0   30.0   11.0\n",
       "Highest   12.0   83.0    1.0\n",
       "Low        NaN   17.0    3.0\n",
       "Medium     2.0  100.0   33.0"
      ]
     },
     "execution_count": 89,
     "metadata": {},
     "output_type": "execute_result"
    }
   ],
   "source": [
    "axis_df.pivot_table(index=\"Priority\", columns=\"Year\", values=\"Custom field (Product)\", aggfunc=[len])"
   ]
  },
  {
   "cell_type": "code",
   "execution_count": 136,
   "id": "80620b8a-50ec-41b4-b89d-a3df186c0dba",
   "metadata": {},
   "outputs": [],
   "source": [
    "incidents_by_year = axis_df.pivot_table(index=\"Year\", columns=\"Priority\", values=\"Custom field (Product)\", fill_value=0, aggfunc=\"size\")"
   ]
  },
  {
   "cell_type": "code",
   "execution_count": 139,
   "id": "f3552849-eca4-4e34-9fe2-969ef2c35cc0",
   "metadata": {},
   "outputs": [],
   "source": [
    "incidents_by_year = axis_df.pivot_table(index=\"Year\", columns=\"Priority\", values=\"Custom field (Product)\", fill_value=0, aggfunc=[len])"
   ]
  },
  {
   "cell_type": "code",
   "execution_count": 140,
   "id": "c12e1b8c-d41d-4128-a931-7dd178e8b96f",
   "metadata": {},
   "outputs": [
    {
     "data": {
      "text/html": [
       "<div>\n",
       "<style scoped>\n",
       "    .dataframe tbody tr th:only-of-type {\n",
       "        vertical-align: middle;\n",
       "    }\n",
       "\n",
       "    .dataframe tbody tr th {\n",
       "        vertical-align: top;\n",
       "    }\n",
       "\n",
       "    .dataframe thead tr th {\n",
       "        text-align: left;\n",
       "    }\n",
       "\n",
       "    .dataframe thead tr:last-of-type th {\n",
       "        text-align: right;\n",
       "    }\n",
       "</style>\n",
       "<table border=\"1\" class=\"dataframe\">\n",
       "  <thead>\n",
       "    <tr>\n",
       "      <th></th>\n",
       "      <th colspan=\"5\" halign=\"left\">len</th>\n",
       "    </tr>\n",
       "    <tr>\n",
       "      <th>Priority</th>\n",
       "      <th>Critical</th>\n",
       "      <th>High</th>\n",
       "      <th>Highest</th>\n",
       "      <th>Low</th>\n",
       "      <th>Medium</th>\n",
       "    </tr>\n",
       "    <tr>\n",
       "      <th>Year</th>\n",
       "      <th></th>\n",
       "      <th></th>\n",
       "      <th></th>\n",
       "      <th></th>\n",
       "      <th></th>\n",
       "    </tr>\n",
       "  </thead>\n",
       "  <tbody>\n",
       "    <tr>\n",
       "      <th>2020</th>\n",
       "      <td>0</td>\n",
       "      <td>1</td>\n",
       "      <td>12</td>\n",
       "      <td>0</td>\n",
       "      <td>2</td>\n",
       "    </tr>\n",
       "    <tr>\n",
       "      <th>2021</th>\n",
       "      <td>112</td>\n",
       "      <td>30</td>\n",
       "      <td>83</td>\n",
       "      <td>17</td>\n",
       "      <td>100</td>\n",
       "    </tr>\n",
       "    <tr>\n",
       "      <th>2022</th>\n",
       "      <td>129</td>\n",
       "      <td>11</td>\n",
       "      <td>1</td>\n",
       "      <td>3</td>\n",
       "      <td>33</td>\n",
       "    </tr>\n",
       "  </tbody>\n",
       "</table>\n",
       "</div>"
      ],
      "text/plain": [
       "              len                        \n",
       "Priority Critical High Highest Low Medium\n",
       "Year                                     \n",
       "2020            0    1      12   0      2\n",
       "2021          112   30      83  17    100\n",
       "2022          129   11       1   3     33"
      ]
     },
     "execution_count": 140,
     "metadata": {},
     "output_type": "execute_result"
    }
   ],
   "source": [
    "incidents_by_year"
   ]
  },
  {
   "cell_type": "code",
   "execution_count": 141,
   "id": "cb136eb0-29e5-485e-9840-b9ce5c963855",
   "metadata": {},
   "outputs": [
    {
     "data": {
      "text/plain": [
       "MultiIndex([('len', 'Critical'),\n",
       "            ('len',     'High'),\n",
       "            ('len',  'Highest'),\n",
       "            ('len',      'Low'),\n",
       "            ('len',   'Medium')],\n",
       "           names=[None, 'Priority'])"
      ]
     },
     "execution_count": 141,
     "metadata": {},
     "output_type": "execute_result"
    }
   ],
   "source": [
    "incidents_by_year.columns"
   ]
  },
  {
   "cell_type": "code",
   "execution_count": 98,
   "id": "92f4ff31-5d2f-445d-ab31-0d814eaf68e2",
   "metadata": {},
   "outputs": [
    {
     "data": {
      "text/plain": [
       "0      1\n",
       "112    1\n",
       "129    1\n",
       "Name: (len, Critical), dtype: int64"
      ]
     },
     "execution_count": 98,
     "metadata": {},
     "output_type": "execute_result"
    }
   ],
   "source": [
    "incidents_by_year[('len', 'Critical')].value_counts()"
   ]
  },
  {
   "cell_type": "code",
   "execution_count": 121,
   "id": "cf4a9d9d-3079-4074-bc84-d23baf5342bb",
   "metadata": {},
   "outputs": [
    {
     "data": {
      "text/plain": [
       "(len, Critical)  (len, High)  (len, Highest)  (len, Low)  (len, Medium)  (len, Total)\n",
       "129              11           1               3           33             176             1\n",
       "dtype: int64"
      ]
     },
     "execution_count": 121,
     "metadata": {},
     "output_type": "execute_result"
    }
   ],
   "source": [
    "incidents_by_year.query('Year == 2022').value_counts()"
   ]
  },
  {
   "cell_type": "code",
   "execution_count": 144,
   "id": "a84aef53-3045-4874-ae28-dd2cde51fe8d",
   "metadata": {},
   "outputs": [],
   "source": [
    "incidents_by_year = axis_df.pivot_table(index=\"Year\", columns=\"Priority\", values=\"Custom field (Product)\", fill_value=0, aggfunc=[len], margins=True, margins_name=\"Total\")"
   ]
  },
  {
   "cell_type": "code",
   "execution_count": 145,
   "id": "45e20200-df34-4cad-a85f-492ea11c6fca",
   "metadata": {},
   "outputs": [
    {
     "data": {
      "text/html": [
       "<div>\n",
       "<style scoped>\n",
       "    .dataframe tbody tr th:only-of-type {\n",
       "        vertical-align: middle;\n",
       "    }\n",
       "\n",
       "    .dataframe tbody tr th {\n",
       "        vertical-align: top;\n",
       "    }\n",
       "\n",
       "    .dataframe thead tr th {\n",
       "        text-align: left;\n",
       "    }\n",
       "\n",
       "    .dataframe thead tr:last-of-type th {\n",
       "        text-align: right;\n",
       "    }\n",
       "</style>\n",
       "<table border=\"1\" class=\"dataframe\">\n",
       "  <thead>\n",
       "    <tr>\n",
       "      <th></th>\n",
       "      <th colspan=\"6\" halign=\"left\">len</th>\n",
       "    </tr>\n",
       "    <tr>\n",
       "      <th>Priority</th>\n",
       "      <th>Critical</th>\n",
       "      <th>High</th>\n",
       "      <th>Highest</th>\n",
       "      <th>Low</th>\n",
       "      <th>Medium</th>\n",
       "      <th>Total</th>\n",
       "    </tr>\n",
       "    <tr>\n",
       "      <th>Year</th>\n",
       "      <th></th>\n",
       "      <th></th>\n",
       "      <th></th>\n",
       "      <th></th>\n",
       "      <th></th>\n",
       "      <th></th>\n",
       "    </tr>\n",
       "  </thead>\n",
       "  <tbody>\n",
       "    <tr>\n",
       "      <th>2020</th>\n",
       "      <td>0</td>\n",
       "      <td>1</td>\n",
       "      <td>12</td>\n",
       "      <td>0</td>\n",
       "      <td>2</td>\n",
       "      <td>15</td>\n",
       "    </tr>\n",
       "    <tr>\n",
       "      <th>2021</th>\n",
       "      <td>112</td>\n",
       "      <td>30</td>\n",
       "      <td>83</td>\n",
       "      <td>17</td>\n",
       "      <td>100</td>\n",
       "      <td>332</td>\n",
       "    </tr>\n",
       "    <tr>\n",
       "      <th>2022</th>\n",
       "      <td>129</td>\n",
       "      <td>11</td>\n",
       "      <td>1</td>\n",
       "      <td>3</td>\n",
       "      <td>33</td>\n",
       "      <td>176</td>\n",
       "    </tr>\n",
       "    <tr>\n",
       "      <th>Total</th>\n",
       "      <td>231</td>\n",
       "      <td>42</td>\n",
       "      <td>96</td>\n",
       "      <td>20</td>\n",
       "      <td>134</td>\n",
       "      <td>523</td>\n",
       "    </tr>\n",
       "  </tbody>\n",
       "</table>\n",
       "</div>"
      ],
      "text/plain": [
       "              len                              \n",
       "Priority Critical High Highest Low Medium Total\n",
       "Year                                           \n",
       "2020            0    1      12   0      2    15\n",
       "2021          112   30      83  17    100   332\n",
       "2022          129   11       1   3     33   176\n",
       "Total         231   42      96  20    134   523"
      ]
     },
     "execution_count": 145,
     "metadata": {},
     "output_type": "execute_result"
    }
   ],
   "source": [
    "incidents_by_year"
   ]
  },
  {
   "cell_type": "code",
   "execution_count": 154,
   "id": "a17c6b8f-dc9a-41c7-9558-e675490cdb85",
   "metadata": {},
   "outputs": [
    {
     "data": {
      "text/plain": [
       "MultiIndex([('len', 'Critical'),\n",
       "            ('len',     'High'),\n",
       "            ('len',  'Highest'),\n",
       "            ('len',      'Low'),\n",
       "            ('len',   'Medium'),\n",
       "            ('len',    'Total')],\n",
       "           names=[None, 'Priority'])"
      ]
     },
     "execution_count": 154,
     "metadata": {},
     "output_type": "execute_result"
    }
   ],
   "source": [
    "incidents_by_year.r"
   ]
  },
  {
   "cell_type": "code",
   "execution_count": 158,
   "id": "18c59939-140d-4603-b5b8-9af386db6963",
   "metadata": {},
   "outputs": [
    {
     "data": {
      "text/html": [
       "<div>\n",
       "<style scoped>\n",
       "    .dataframe tbody tr th:only-of-type {\n",
       "        vertical-align: middle;\n",
       "    }\n",
       "\n",
       "    .dataframe tbody tr th {\n",
       "        vertical-align: top;\n",
       "    }\n",
       "\n",
       "    .dataframe thead tr th {\n",
       "        text-align: left;\n",
       "    }\n",
       "\n",
       "    .dataframe thead tr:last-of-type th {\n",
       "        text-align: right;\n",
       "    }\n",
       "</style>\n",
       "<table border=\"1\" class=\"dataframe\">\n",
       "  <thead>\n",
       "    <tr>\n",
       "      <th></th>\n",
       "      <th colspan=\"5\" halign=\"left\">len</th>\n",
       "    </tr>\n",
       "    <tr>\n",
       "      <th>Priority</th>\n",
       "      <th>Critical</th>\n",
       "      <th>High</th>\n",
       "      <th>Highest</th>\n",
       "      <th>Low</th>\n",
       "      <th>Medium</th>\n",
       "    </tr>\n",
       "    <tr>\n",
       "      <th>Year</th>\n",
       "      <th></th>\n",
       "      <th></th>\n",
       "      <th></th>\n",
       "      <th></th>\n",
       "      <th></th>\n",
       "    </tr>\n",
       "  </thead>\n",
       "  <tbody>\n",
       "    <tr>\n",
       "      <th>2020</th>\n",
       "      <td>0</td>\n",
       "      <td>1</td>\n",
       "      <td>12</td>\n",
       "      <td>0</td>\n",
       "      <td>2</td>\n",
       "    </tr>\n",
       "    <tr>\n",
       "      <th>2021</th>\n",
       "      <td>112</td>\n",
       "      <td>30</td>\n",
       "      <td>83</td>\n",
       "      <td>17</td>\n",
       "      <td>100</td>\n",
       "    </tr>\n",
       "    <tr>\n",
       "      <th>2022</th>\n",
       "      <td>129</td>\n",
       "      <td>11</td>\n",
       "      <td>1</td>\n",
       "      <td>3</td>\n",
       "      <td>33</td>\n",
       "    </tr>\n",
       "    <tr>\n",
       "      <th>Total</th>\n",
       "      <td>231</td>\n",
       "      <td>42</td>\n",
       "      <td>96</td>\n",
       "      <td>20</td>\n",
       "      <td>134</td>\n",
       "    </tr>\n",
       "  </tbody>\n",
       "</table>\n",
       "</div>"
      ],
      "text/plain": [
       "              len                        \n",
       "Priority Critical High Highest Low Medium\n",
       "Year                                     \n",
       "2020            0    1      12   0      2\n",
       "2021          112   30      83  17    100\n",
       "2022          129   11       1   3     33\n",
       "Total         231   42      96  20    134"
      ]
     },
     "execution_count": 158,
     "metadata": {},
     "output_type": "execute_result"
    }
   ],
   "source": [
    "incidents_by_year.loc[:, incidents_by_year.columns != ('len',    'Total')]"
   ]
  },
  {
   "cell_type": "code",
   "execution_count": 157,
   "id": "7bc8ee73-8cbc-4342-a71e-6203ab2f07ef",
   "metadata": {},
   "outputs": [
    {
     "data": {
      "text/plain": [
       "<AxesSubplot:ylabel='(len, Total)'>"
      ]
     },
     "execution_count": 157,
     "metadata": {},
     "output_type": "execute_result"
    },
    {
     "data": {
      "image/png": "[encoded data removed]",
      "text/plain": [
       "<Figure size 640x480 with 1 Axes>"
      ]
     },
     "metadata": {},
     "output_type": "display_data"
    }
   ],
   "source": [
    "incidents_by_year[('len',    'Total')].plot(kind='pie')"
   ]
  },
  {
   "cell_type": "code",
   "execution_count": 138,
   "id": "a9b50543-c621-49c4-b18b-6d9d9b039751",
   "metadata": {},
   "outputs": [
    {
     "data": {
      "text/plain": [
       "<AxesSubplot:title={'center':'Incidents by Prorities & Year'}, xlabel='Year'>"
      ]
     },
     "execution_count": 138,
     "metadata": {},
     "output_type": "execute_result"
    },
    {
     "data": {
      "image/png": "[encoded data removed]",
      "text/plain": [
       "<Figure size 640x480 with 1 Axes>"
      ]
     },
     "metadata": {},
     "output_type": "display_data"
    }
   ],
   "source": [
    "incidents_by_year.plot(kind=\"bar\", title=\"Incidents by Prorities & Year\")"
   ]
  },
  {
   "cell_type": "code",
   "execution_count": null,
   "id": "1f00111b-01b3-45fb-b254-d69682bfd924",
   "metadata": {},
   "outputs": [],
   "source": []
  },
  {
   "cell_type": "code",
   "execution_count": null,
   "id": "a91a468a-3102-4cbc-8221-f4ac133c9d3f",
   "metadata": {},
   "outputs": [],
   "source": []
  },
  {
   "cell_type": "code",
   "execution_count": 63,
   "id": "b8dbe845-1389-4c99-bbb0-eaf796d2ce3e",
   "metadata": {},
   "outputs": [],
   "source": [
    "incidents_by_prod = axis_df.pivot_table(index=\"Custom field (Product)\", columns=\"Priority\", values=\"Year\", fill_value=0, aggfunc=[len], margins=True, margins_name=\"Total\")"
   ]
  },
  {
   "cell_type": "code",
   "execution_count": 64,
   "id": "727aa977-f653-4e11-88fa-b47c9d50137a",
   "metadata": {},
   "outputs": [
    {
     "data": {
      "text/html": [
       "<div>\n",
       "<style scoped>\n",
       "    .dataframe tbody tr th:only-of-type {\n",
       "        vertical-align: middle;\n",
       "    }\n",
       "\n",
       "    .dataframe tbody tr th {\n",
       "        vertical-align: top;\n",
       "    }\n",
       "\n",
       "    .dataframe thead tr th {\n",
       "        text-align: left;\n",
       "    }\n",
       "\n",
       "    .dataframe thead tr:last-of-type th {\n",
       "        text-align: right;\n",
       "    }\n",
       "</style>\n",
       "<table border=\"1\" class=\"dataframe\">\n",
       "  <thead>\n",
       "    <tr>\n",
       "      <th></th>\n",
       "      <th colspan=\"6\" halign=\"left\">len</th>\n",
       "    </tr>\n",
       "    <tr>\n",
       "      <th>Priority</th>\n",
       "      <th>Critical</th>\n",
       "      <th>High</th>\n",
       "      <th>Highest</th>\n",
       "      <th>Low</th>\n",
       "      <th>Medium</th>\n",
       "      <th>Total</th>\n",
       "    </tr>\n",
       "    <tr>\n",
       "      <th>Custom field (Product)</th>\n",
       "      <th></th>\n",
       "      <th></th>\n",
       "      <th></th>\n",
       "      <th></th>\n",
       "      <th></th>\n",
       "      <th></th>\n",
       "    </tr>\n",
       "  </thead>\n",
       "  <tbody>\n",
       "    <tr>\n",
       "      <th>AL</th>\n",
       "      <td>31</td>\n",
       "      <td>7</td>\n",
       "      <td>10</td>\n",
       "      <td>1</td>\n",
       "      <td>11</td>\n",
       "      <td>60</td>\n",
       "    </tr>\n",
       "    <tr>\n",
       "      <th>AL Top Up</th>\n",
       "      <td>4</td>\n",
       "      <td>0</td>\n",
       "      <td>1</td>\n",
       "      <td>0</td>\n",
       "      <td>7</td>\n",
       "      <td>12</td>\n",
       "    </tr>\n",
       "    <tr>\n",
       "      <th>Credit Card</th>\n",
       "      <td>84</td>\n",
       "      <td>3</td>\n",
       "      <td>0</td>\n",
       "      <td>10</td>\n",
       "      <td>27</td>\n",
       "      <td>124</td>\n",
       "    </tr>\n",
       "    <tr>\n",
       "      <th>ETB API</th>\n",
       "      <td>0</td>\n",
       "      <td>5</td>\n",
       "      <td>11</td>\n",
       "      <td>0</td>\n",
       "      <td>5</td>\n",
       "      <td>21</td>\n",
       "    </tr>\n",
       "    <tr>\n",
       "      <th>HL</th>\n",
       "      <td>9</td>\n",
       "      <td>4</td>\n",
       "      <td>6</td>\n",
       "      <td>2</td>\n",
       "      <td>8</td>\n",
       "      <td>29</td>\n",
       "    </tr>\n",
       "    <tr>\n",
       "      <th>HL Adoption</th>\n",
       "      <td>0</td>\n",
       "      <td>0</td>\n",
       "      <td>2</td>\n",
       "      <td>0</td>\n",
       "      <td>13</td>\n",
       "      <td>15</td>\n",
       "    </tr>\n",
       "    <tr>\n",
       "      <th>KTB</th>\n",
       "      <td>0</td>\n",
       "      <td>0</td>\n",
       "      <td>4</td>\n",
       "      <td>0</td>\n",
       "      <td>2</td>\n",
       "      <td>6</td>\n",
       "    </tr>\n",
       "    <tr>\n",
       "      <th>LAS</th>\n",
       "      <td>13</td>\n",
       "      <td>0</td>\n",
       "      <td>0</td>\n",
       "      <td>0</td>\n",
       "      <td>2</td>\n",
       "      <td>15</td>\n",
       "    </tr>\n",
       "    <tr>\n",
       "      <th>OD</th>\n",
       "      <td>4</td>\n",
       "      <td>4</td>\n",
       "      <td>5</td>\n",
       "      <td>0</td>\n",
       "      <td>5</td>\n",
       "      <td>18</td>\n",
       "    </tr>\n",
       "    <tr>\n",
       "      <th>PL</th>\n",
       "      <td>40</td>\n",
       "      <td>9</td>\n",
       "      <td>34</td>\n",
       "      <td>5</td>\n",
       "      <td>24</td>\n",
       "      <td>112</td>\n",
       "    </tr>\n",
       "    <tr>\n",
       "      <th>Phygital</th>\n",
       "      <td>6</td>\n",
       "      <td>1</td>\n",
       "      <td>6</td>\n",
       "      <td>0</td>\n",
       "      <td>1</td>\n",
       "      <td>14</td>\n",
       "    </tr>\n",
       "    <tr>\n",
       "      <th>Platform</th>\n",
       "      <td>38</td>\n",
       "      <td>9</td>\n",
       "      <td>15</td>\n",
       "      <td>2</td>\n",
       "      <td>28</td>\n",
       "      <td>92</td>\n",
       "    </tr>\n",
       "    <tr>\n",
       "      <th>Testing</th>\n",
       "      <td>0</td>\n",
       "      <td>0</td>\n",
       "      <td>1</td>\n",
       "      <td>0</td>\n",
       "      <td>1</td>\n",
       "      <td>2</td>\n",
       "    </tr>\n",
       "    <tr>\n",
       "      <th>Two Wheeler</th>\n",
       "      <td>2</td>\n",
       "      <td>0</td>\n",
       "      <td>1</td>\n",
       "      <td>0</td>\n",
       "      <td>0</td>\n",
       "      <td>3</td>\n",
       "    </tr>\n",
       "    <tr>\n",
       "      <th>Total</th>\n",
       "      <td>231</td>\n",
       "      <td>42</td>\n",
       "      <td>96</td>\n",
       "      <td>20</td>\n",
       "      <td>134</td>\n",
       "      <td>523</td>\n",
       "    </tr>\n",
       "  </tbody>\n",
       "</table>\n",
       "</div>"
      ],
      "text/plain": [
       "                            len                              \n",
       "Priority               Critical High Highest Low Medium Total\n",
       "Custom field (Product)                                       \n",
       "AL                           31    7      10   1     11    60\n",
       "AL Top Up                     4    0       1   0      7    12\n",
       "Credit Card                  84    3       0  10     27   124\n",
       "ETB API                       0    5      11   0      5    21\n",
       "HL                            9    4       6   2      8    29\n",
       "HL Adoption                   0    0       2   0     13    15\n",
       "KTB                           0    0       4   0      2     6\n",
       "LAS                          13    0       0   0      2    15\n",
       "OD                            4    4       5   0      5    18\n",
       "PL                           40    9      34   5     24   112\n",
       "Phygital                      6    1       6   0      1    14\n",
       "Platform                     38    9      15   2     28    92\n",
       "Testing                       0    0       1   0      1     2\n",
       "Two Wheeler                   2    0       1   0      0     3\n",
       "Total                       231   42      96  20    134   523"
      ]
     },
     "execution_count": 64,
     "metadata": {},
     "output_type": "execute_result"
    }
   ],
   "source": [
    "incidents_by_prod"
   ]
  },
  {
   "cell_type": "code",
   "execution_count": 66,
   "id": "17d5b934-d2c5-4375-be32-c19981426063",
   "metadata": {},
   "outputs": [],
   "source": [
    "incidents_by_prod = axis_df.pivot_table(index=[\"Year\", \"Custom field (Product)\"], columns=\"Priority\", values=\"Created\", fill_value=0, aggfunc=[len], margins=True, margins_name=\"Total\")"
   ]
  },
  {
   "cell_type": "code",
   "execution_count": 67,
   "id": "378ef090-839a-4018-a5d7-195f74106e65",
   "metadata": {},
   "outputs": [
    {
     "data": {
      "text/html": [
       "<div>\n",
       "<style scoped>\n",
       "    .dataframe tbody tr th:only-of-type {\n",
       "        vertical-align: middle;\n",
       "    }\n",
       "\n",
       "    .dataframe tbody tr th {\n",
       "        vertical-align: top;\n",
       "    }\n",
       "\n",
       "    .dataframe thead tr th {\n",
       "        text-align: left;\n",
       "    }\n",
       "\n",
       "    .dataframe thead tr:last-of-type th {\n",
       "        text-align: right;\n",
       "    }\n",
       "</style>\n",
       "<table border=\"1\" class=\"dataframe\">\n",
       "  <thead>\n",
       "    <tr>\n",
       "      <th></th>\n",
       "      <th></th>\n",
       "      <th colspan=\"6\" halign=\"left\">len</th>\n",
       "    </tr>\n",
       "    <tr>\n",
       "      <th></th>\n",
       "      <th>Priority</th>\n",
       "      <th>Critical</th>\n",
       "      <th>High</th>\n",
       "      <th>Highest</th>\n",
       "      <th>Low</th>\n",
       "      <th>Medium</th>\n",
       "      <th>Total</th>\n",
       "    </tr>\n",
       "    <tr>\n",
       "      <th>Year</th>\n",
       "      <th>Custom field (Product)</th>\n",
       "      <th></th>\n",
       "      <th></th>\n",
       "      <th></th>\n",
       "      <th></th>\n",
       "      <th></th>\n",
       "      <th></th>\n",
       "    </tr>\n",
       "  </thead>\n",
       "  <tbody>\n",
       "    <tr>\n",
       "      <th rowspan=\"5\" valign=\"top\">2020</th>\n",
       "      <th>AL</th>\n",
       "      <td>0</td>\n",
       "      <td>0</td>\n",
       "      <td>3</td>\n",
       "      <td>0</td>\n",
       "      <td>0</td>\n",
       "      <td>3</td>\n",
       "    </tr>\n",
       "    <tr>\n",
       "      <th>ETB API</th>\n",
       "      <td>0</td>\n",
       "      <td>1</td>\n",
       "      <td>0</td>\n",
       "      <td>0</td>\n",
       "      <td>1</td>\n",
       "      <td>2</td>\n",
       "    </tr>\n",
       "    <tr>\n",
       "      <th>PL</th>\n",
       "      <td>0</td>\n",
       "      <td>0</td>\n",
       "      <td>6</td>\n",
       "      <td>0</td>\n",
       "      <td>1</td>\n",
       "      <td>7</td>\n",
       "    </tr>\n",
       "    <tr>\n",
       "      <th>Phygital</th>\n",
       "      <td>0</td>\n",
       "      <td>0</td>\n",
       "      <td>2</td>\n",
       "      <td>0</td>\n",
       "      <td>0</td>\n",
       "      <td>2</td>\n",
       "    </tr>\n",
       "    <tr>\n",
       "      <th>Platform</th>\n",
       "      <td>0</td>\n",
       "      <td>0</td>\n",
       "      <td>1</td>\n",
       "      <td>0</td>\n",
       "      <td>0</td>\n",
       "      <td>1</td>\n",
       "    </tr>\n",
       "    <tr>\n",
       "      <th rowspan=\"13\" valign=\"top\">2021</th>\n",
       "      <th>AL</th>\n",
       "      <td>12</td>\n",
       "      <td>4</td>\n",
       "      <td>7</td>\n",
       "      <td>1</td>\n",
       "      <td>9</td>\n",
       "      <td>33</td>\n",
       "    </tr>\n",
       "    <tr>\n",
       "      <th>AL Top Up</th>\n",
       "      <td>3</td>\n",
       "      <td>0</td>\n",
       "      <td>1</td>\n",
       "      <td>0</td>\n",
       "      <td>7</td>\n",
       "      <td>11</td>\n",
       "    </tr>\n",
       "    <tr>\n",
       "      <th>Credit Card</th>\n",
       "      <td>41</td>\n",
       "      <td>2</td>\n",
       "      <td>0</td>\n",
       "      <td>9</td>\n",
       "      <td>17</td>\n",
       "      <td>69</td>\n",
       "    </tr>\n",
       "    <tr>\n",
       "      <th>ETB API</th>\n",
       "      <td>0</td>\n",
       "      <td>3</td>\n",
       "      <td>11</td>\n",
       "      <td>0</td>\n",
       "      <td>4</td>\n",
       "      <td>18</td>\n",
       "    </tr>\n",
       "    <tr>\n",
       "      <th>HL</th>\n",
       "      <td>5</td>\n",
       "      <td>4</td>\n",
       "      <td>5</td>\n",
       "      <td>1</td>\n",
       "      <td>4</td>\n",
       "      <td>19</td>\n",
       "    </tr>\n",
       "    <tr>\n",
       "      <th>HL Adoption</th>\n",
       "      <td>0</td>\n",
       "      <td>0</td>\n",
       "      <td>2</td>\n",
       "      <td>0</td>\n",
       "      <td>13</td>\n",
       "      <td>15</td>\n",
       "    </tr>\n",
       "    <tr>\n",
       "      <th>KTB</th>\n",
       "      <td>0</td>\n",
       "      <td>0</td>\n",
       "      <td>4</td>\n",
       "      <td>0</td>\n",
       "      <td>2</td>\n",
       "      <td>6</td>\n",
       "    </tr>\n",
       "    <tr>\n",
       "      <th>OD</th>\n",
       "      <td>1</td>\n",
       "      <td>4</td>\n",
       "      <td>5</td>\n",
       "      <td>0</td>\n",
       "      <td>5</td>\n",
       "      <td>15</td>\n",
       "    </tr>\n",
       "    <tr>\n",
       "      <th>PL</th>\n",
       "      <td>20</td>\n",
       "      <td>6</td>\n",
       "      <td>28</td>\n",
       "      <td>4</td>\n",
       "      <td>18</td>\n",
       "      <td>76</td>\n",
       "    </tr>\n",
       "    <tr>\n",
       "      <th>Phygital</th>\n",
       "      <td>3</td>\n",
       "      <td>1</td>\n",
       "      <td>4</td>\n",
       "      <td>0</td>\n",
       "      <td>1</td>\n",
       "      <td>9</td>\n",
       "    </tr>\n",
       "    <tr>\n",
       "      <th>Platform</th>\n",
       "      <td>18</td>\n",
       "      <td>6</td>\n",
       "      <td>14</td>\n",
       "      <td>2</td>\n",
       "      <td>18</td>\n",
       "      <td>58</td>\n",
       "    </tr>\n",
       "    <tr>\n",
       "      <th>Testing</th>\n",
       "      <td>0</td>\n",
       "      <td>0</td>\n",
       "      <td>1</td>\n",
       "      <td>0</td>\n",
       "      <td>1</td>\n",
       "      <td>2</td>\n",
       "    </tr>\n",
       "    <tr>\n",
       "      <th>Two Wheeler</th>\n",
       "      <td>0</td>\n",
       "      <td>0</td>\n",
       "      <td>1</td>\n",
       "      <td>0</td>\n",
       "      <td>0</td>\n",
       "      <td>1</td>\n",
       "    </tr>\n",
       "    <tr>\n",
       "      <th rowspan=\"11\" valign=\"top\">2022</th>\n",
       "      <th>AL</th>\n",
       "      <td>19</td>\n",
       "      <td>3</td>\n",
       "      <td>0</td>\n",
       "      <td>0</td>\n",
       "      <td>2</td>\n",
       "      <td>24</td>\n",
       "    </tr>\n",
       "    <tr>\n",
       "      <th>AL Top Up</th>\n",
       "      <td>1</td>\n",
       "      <td>0</td>\n",
       "      <td>0</td>\n",
       "      <td>0</td>\n",
       "      <td>0</td>\n",
       "      <td>1</td>\n",
       "    </tr>\n",
       "    <tr>\n",
       "      <th>Credit Card</th>\n",
       "      <td>43</td>\n",
       "      <td>1</td>\n",
       "      <td>0</td>\n",
       "      <td>1</td>\n",
       "      <td>10</td>\n",
       "      <td>55</td>\n",
       "    </tr>\n",
       "    <tr>\n",
       "      <th>ETB API</th>\n",
       "      <td>0</td>\n",
       "      <td>1</td>\n",
       "      <td>0</td>\n",
       "      <td>0</td>\n",
       "      <td>0</td>\n",
       "      <td>1</td>\n",
       "    </tr>\n",
       "    <tr>\n",
       "      <th>HL</th>\n",
       "      <td>4</td>\n",
       "      <td>0</td>\n",
       "      <td>1</td>\n",
       "      <td>1</td>\n",
       "      <td>4</td>\n",
       "      <td>10</td>\n",
       "    </tr>\n",
       "    <tr>\n",
       "      <th>LAS</th>\n",
       "      <td>13</td>\n",
       "      <td>0</td>\n",
       "      <td>0</td>\n",
       "      <td>0</td>\n",
       "      <td>2</td>\n",
       "      <td>15</td>\n",
       "    </tr>\n",
       "    <tr>\n",
       "      <th>OD</th>\n",
       "      <td>3</td>\n",
       "      <td>0</td>\n",
       "      <td>0</td>\n",
       "      <td>0</td>\n",
       "      <td>0</td>\n",
       "      <td>3</td>\n",
       "    </tr>\n",
       "    <tr>\n",
       "      <th>PL</th>\n",
       "      <td>20</td>\n",
       "      <td>3</td>\n",
       "      <td>0</td>\n",
       "      <td>1</td>\n",
       "      <td>5</td>\n",
       "      <td>29</td>\n",
       "    </tr>\n",
       "    <tr>\n",
       "      <th>Phygital</th>\n",
       "      <td>3</td>\n",
       "      <td>0</td>\n",
       "      <td>0</td>\n",
       "      <td>0</td>\n",
       "      <td>0</td>\n",
       "      <td>3</td>\n",
       "    </tr>\n",
       "    <tr>\n",
       "      <th>Platform</th>\n",
       "      <td>20</td>\n",
       "      <td>3</td>\n",
       "      <td>0</td>\n",
       "      <td>0</td>\n",
       "      <td>10</td>\n",
       "      <td>33</td>\n",
       "    </tr>\n",
       "    <tr>\n",
       "      <th>Two Wheeler</th>\n",
       "      <td>2</td>\n",
       "      <td>0</td>\n",
       "      <td>0</td>\n",
       "      <td>0</td>\n",
       "      <td>0</td>\n",
       "      <td>2</td>\n",
       "    </tr>\n",
       "    <tr>\n",
       "      <th>Total</th>\n",
       "      <th></th>\n",
       "      <td>231</td>\n",
       "      <td>42</td>\n",
       "      <td>96</td>\n",
       "      <td>20</td>\n",
       "      <td>134</td>\n",
       "      <td>523</td>\n",
       "    </tr>\n",
       "  </tbody>\n",
       "</table>\n",
       "</div>"
      ],
      "text/plain": [
       "                                  len                              \n",
       "Priority                     Critical High Highest Low Medium Total\n",
       "Year  Custom field (Product)                                       \n",
       "2020  AL                            0    0       3   0      0     3\n",
       "      ETB API                       0    1       0   0      1     2\n",
       "      PL                            0    0       6   0      1     7\n",
       "      Phygital                      0    0       2   0      0     2\n",
       "      Platform                      0    0       1   0      0     1\n",
       "2021  AL                           12    4       7   1      9    33\n",
       "      AL Top Up                     3    0       1   0      7    11\n",
       "      Credit Card                  41    2       0   9     17    69\n",
       "      ETB API                       0    3      11   0      4    18\n",
       "      HL                            5    4       5   1      4    19\n",
       "      HL Adoption                   0    0       2   0     13    15\n",
       "      KTB                           0    0       4   0      2     6\n",
       "      OD                            1    4       5   0      5    15\n",
       "      PL                           20    6      28   4     18    76\n",
       "      Phygital                      3    1       4   0      1     9\n",
       "      Platform                     18    6      14   2     18    58\n",
       "      Testing                       0    0       1   0      1     2\n",
       "      Two Wheeler                   0    0       1   0      0     1\n",
       "2022  AL                           19    3       0   0      2    24\n",
       "      AL Top Up                     1    0       0   0      0     1\n",
       "      Credit Card                  43    1       0   1     10    55\n",
       "      ETB API                       0    1       0   0      0     1\n",
       "      HL                            4    0       1   1      4    10\n",
       "      LAS                          13    0       0   0      2    15\n",
       "      OD                            3    0       0   0      0     3\n",
       "      PL                           20    3       0   1      5    29\n",
       "      Phygital                      3    0       0   0      0     3\n",
       "      Platform                     20    3       0   0     10    33\n",
       "      Two Wheeler                   2    0       0   0      0     2\n",
       "Total                             231   42      96  20    134   523"
      ]
     },
     "execution_count": 67,
     "metadata": {},
     "output_type": "execute_result"
    }
   ],
   "source": [
    "incidents_by_prod"
   ]
  },
  {
   "cell_type": "code",
   "execution_count": 220,
   "id": "9d147992-07bc-465f-b1c4-30b7f163350f",
   "metadata": {},
   "outputs": [],
   "source": [
    "incidents_by_year = axis_df.pivot_table(index=\"Year\", columns=\"Priority\", values=\"Custom field (Product)\", fill_value=0, aggfunc=\"size\")"
   ]
  },
  {
   "cell_type": "code",
   "execution_count": 282,
   "id": "f5d29e17-46f7-4c41-92a7-0478bc2867b0",
   "metadata": {},
   "outputs": [],
   "source": [
    "incidents_by_year = axis_df.pivot_table(index=\"Priority\", columns=\"Year\", values=\"Custom field (Product)\", fill_value=0, aggfunc=\"size\")"
   ]
  },
  {
   "cell_type": "code",
   "execution_count": 283,
   "id": "c95618fc-7a6f-40a4-aa6e-440da0947fc5",
   "metadata": {},
   "outputs": [
    {
     "data": {
      "text/html": [
       "<div>\n",
       "<style scoped>\n",
       "    .dataframe tbody tr th:only-of-type {\n",
       "        vertical-align: middle;\n",
       "    }\n",
       "\n",
       "    .dataframe tbody tr th {\n",
       "        vertical-align: top;\n",
       "    }\n",
       "\n",
       "    .dataframe thead th {\n",
       "        text-align: right;\n",
       "    }\n",
       "</style>\n",
       "<table border=\"1\" class=\"dataframe\">\n",
       "  <thead>\n",
       "    <tr style=\"text-align: right;\">\n",
       "      <th>Year</th>\n",
       "      <th>2020</th>\n",
       "      <th>2021</th>\n",
       "      <th>2022</th>\n",
       "    </tr>\n",
       "    <tr>\n",
       "      <th>Priority</th>\n",
       "      <th></th>\n",
       "      <th></th>\n",
       "      <th></th>\n",
       "    </tr>\n",
       "  </thead>\n",
       "  <tbody>\n",
       "    <tr>\n",
       "      <th>Critical</th>\n",
       "      <td>0</td>\n",
       "      <td>112</td>\n",
       "      <td>129</td>\n",
       "    </tr>\n",
       "    <tr>\n",
       "      <th>High</th>\n",
       "      <td>1</td>\n",
       "      <td>30</td>\n",
       "      <td>11</td>\n",
       "    </tr>\n",
       "    <tr>\n",
       "      <th>Highest</th>\n",
       "      <td>12</td>\n",
       "      <td>83</td>\n",
       "      <td>1</td>\n",
       "    </tr>\n",
       "    <tr>\n",
       "      <th>Low</th>\n",
       "      <td>0</td>\n",
       "      <td>17</td>\n",
       "      <td>3</td>\n",
       "    </tr>\n",
       "    <tr>\n",
       "      <th>Medium</th>\n",
       "      <td>2</td>\n",
       "      <td>100</td>\n",
       "      <td>33</td>\n",
       "    </tr>\n",
       "  </tbody>\n",
       "</table>\n",
       "</div>"
      ],
      "text/plain": [
       "Year      2020  2021  2022\n",
       "Priority                  \n",
       "Critical     0   112   129\n",
       "High         1    30    11\n",
       "Highest     12    83     1\n",
       "Low          0    17     3\n",
       "Medium       2   100    33"
      ]
     },
     "execution_count": 283,
     "metadata": {},
     "output_type": "execute_result"
    }
   ],
   "source": [
    "incidents_by_year"
   ]
  },
  {
   "cell_type": "code",
   "execution_count": 253,
   "id": "e2dc2ee5-e584-4b77-9759-53c35264e912",
   "metadata": {},
   "outputs": [
    {
     "data": {
      "text/plain": [
       "Int64Index([2020, 2021, 2022], dtype='int64', name='Year')"
      ]
     },
     "execution_count": 253,
     "metadata": {},
     "output_type": "execute_result"
    }
   ],
   "source": [
    "incidents_by_year.columns"
   ]
  },
  {
   "cell_type": "code",
   "execution_count": 284,
   "id": "8c418e71-de9f-4025-a66d-41a8588f1dbe",
   "metadata": {},
   "outputs": [
    {
     "data": {
      "text/plain": [
       "<AxesSubplot:xlabel='Priority'>"
      ]
     },
     "execution_count": 284,
     "metadata": {},
     "output_type": "execute_result"
    },
    {
     "data": {
      "image/png": "[encoded data removed]",
      "text/plain": [
       "<Figure size 640x480 with 1 Axes>"
      ]
     },
     "metadata": {},
     "output_type": "display_data"
    }
   ],
   "source": [
    "incidents_by_year.plot(kind='bar')"
   ]
  },
  {
   "cell_type": "code",
   "execution_count": 279,
   "id": "318bf181-07c1-4a20-801f-3c88329d2e03",
   "metadata": {},
   "outputs": [
    {
     "data": {
      "text/plain": [
       "Int64Index([2020, 2021, 2022], dtype='int64', name='Year')"
      ]
     },
     "execution_count": 279,
     "metadata": {},
     "output_type": "execute_result"
    }
   ],
   "source": [
    "incidents_by_year.keys()"
   ]
  },
  {
   "cell_type": "code",
   "execution_count": 285,
   "id": "d6402eb0-47ec-4c9d-998b-c5c36073294f",
   "metadata": {},
   "outputs": [],
   "source": [
    "# incidents_by_year['Incidents'] = incidents_by_year[['Critical','High', 'Highest', 'Low', 'Medium']].sum(axis=1)\n",
    "incidents_by_year.loc['Incidents'] = incidents_by_year[incidents_by_year.keys()].sum()\n",
    "incidents_by_year.fillna('',inplace=True)"
   ]
  },
  {
   "cell_type": "code",
   "execution_count": 286,
   "id": "421816f7-bf7d-49d7-92f1-4659f4cce9d7",
   "metadata": {},
   "outputs": [
    {
     "data": {
      "text/html": [
       "<div>\n",
       "<style scoped>\n",
       "    .dataframe tbody tr th:only-of-type {\n",
       "        vertical-align: middle;\n",
       "    }\n",
       "\n",
       "    .dataframe tbody tr th {\n",
       "        vertical-align: top;\n",
       "    }\n",
       "\n",
       "    .dataframe thead th {\n",
       "        text-align: right;\n",
       "    }\n",
       "</style>\n",
       "<table border=\"1\" class=\"dataframe\">\n",
       "  <thead>\n",
       "    <tr style=\"text-align: right;\">\n",
       "      <th>Year</th>\n",
       "      <th>2020</th>\n",
       "      <th>2021</th>\n",
       "      <th>2022</th>\n",
       "    </tr>\n",
       "    <tr>\n",
       "      <th>Priority</th>\n",
       "      <th></th>\n",
       "      <th></th>\n",
       "      <th></th>\n",
       "    </tr>\n",
       "  </thead>\n",
       "  <tbody>\n",
       "    <tr>\n",
       "      <th>Critical</th>\n",
       "      <td>0</td>\n",
       "      <td>112</td>\n",
       "      <td>129</td>\n",
       "    </tr>\n",
       "    <tr>\n",
       "      <th>High</th>\n",
       "      <td>1</td>\n",
       "      <td>30</td>\n",
       "      <td>11</td>\n",
       "    </tr>\n",
       "    <tr>\n",
       "      <th>Highest</th>\n",
       "      <td>12</td>\n",
       "      <td>83</td>\n",
       "      <td>1</td>\n",
       "    </tr>\n",
       "    <tr>\n",
       "      <th>Low</th>\n",
       "      <td>0</td>\n",
       "      <td>17</td>\n",
       "      <td>3</td>\n",
       "    </tr>\n",
       "    <tr>\n",
       "      <th>Medium</th>\n",
       "      <td>2</td>\n",
       "      <td>100</td>\n",
       "      <td>33</td>\n",
       "    </tr>\n",
       "    <tr>\n",
       "      <th>Incidents</th>\n",
       "      <td>15</td>\n",
       "      <td>342</td>\n",
       "      <td>177</td>\n",
       "    </tr>\n",
       "  </tbody>\n",
       "</table>\n",
       "</div>"
      ],
      "text/plain": [
       "Year       2020  2021  2022\n",
       "Priority                   \n",
       "Critical      0   112   129\n",
       "High          1    30    11\n",
       "Highest      12    83     1\n",
       "Low           0    17     3\n",
       "Medium        2   100    33\n",
       "Incidents    15   342   177"
      ]
     },
     "execution_count": 286,
     "metadata": {},
     "output_type": "execute_result"
    }
   ],
   "source": [
    "incidents_by_year"
   ]
  },
  {
   "cell_type": "code",
   "execution_count": 287,
   "id": "24f13062-421b-4783-939e-d22025621498",
   "metadata": {},
   "outputs": [
    {
     "data": {
      "text/plain": [
       "<AxesSubplot:xlabel='Priority'>"
      ]
     },
     "execution_count": 287,
     "metadata": {},
     "output_type": "execute_result"
    },
    {
     "data": {
      "image/png": "[encoded data removed]",
      "text/plain": [
       "<Figure size 640x480 with 1 Axes>"
      ]
     },
     "metadata": {},
     "output_type": "display_data"
    }
   ],
   "source": [
    "incidents_by_year.plot(kind='bar')"
   ]
  },
  {
   "cell_type": "code",
   "execution_count": 288,
   "id": "b1776914-79a5-40a5-ad6b-07c9a9e2ecba",
   "metadata": {},
   "outputs": [
    {
     "data": {
      "text/html": [
       "<div>\n",
       "<style scoped>\n",
       "    .dataframe tbody tr th:only-of-type {\n",
       "        vertical-align: middle;\n",
       "    }\n",
       "\n",
       "    .dataframe tbody tr th {\n",
       "        vertical-align: top;\n",
       "    }\n",
       "\n",
       "    .dataframe thead th {\n",
       "        text-align: right;\n",
       "    }\n",
       "</style>\n",
       "<table border=\"1\" class=\"dataframe\">\n",
       "  <thead>\n",
       "    <tr style=\"text-align: right;\">\n",
       "      <th>Year</th>\n",
       "      <th>2020</th>\n",
       "      <th>2021</th>\n",
       "      <th>2022</th>\n",
       "    </tr>\n",
       "    <tr>\n",
       "      <th>Priority</th>\n",
       "      <th></th>\n",
       "      <th></th>\n",
       "      <th></th>\n",
       "    </tr>\n",
       "  </thead>\n",
       "  <tbody>\n",
       "    <tr>\n",
       "      <th>Incidents</th>\n",
       "      <td>15</td>\n",
       "      <td>342</td>\n",
       "      <td>177</td>\n",
       "    </tr>\n",
       "  </tbody>\n",
       "</table>\n",
       "</div>"
      ],
      "text/plain": [
       "Year       2020  2021  2022\n",
       "Priority                   \n",
       "Incidents    15   342   177"
      ]
     },
     "execution_count": 288,
     "metadata": {},
     "output_type": "execute_result"
    }
   ],
   "source": [
    "incidents_by_year.iloc[-1:]"
   ]
  },
  {
   "cell_type": "code",
   "execution_count": 293,
   "id": "a7107ae7-ef13-404e-bc3b-d7064d02958f",
   "metadata": {},
   "outputs": [
    {
     "data": {
      "text/plain": [
       "<AxesSubplot:xlabel='Priority'>"
      ]
     },
     "execution_count": 293,
     "metadata": {},
     "output_type": "execute_result"
    },
    {
     "data": {
      "image/png": "[encoded data removed]",
      "text/plain": [
       "<Figure size 640x480 with 1 Axes>"
      ]
     },
     "metadata": {},
     "output_type": "display_data"
    }
   ],
   "source": [
    "incidents_by_year.iloc[-1:].plot(kind='bar', color={\"green\", \"orange\", \"red\"})"
   ]
  },
  {
   "cell_type": "code",
   "execution_count": 296,
   "id": "db60d947-5fa4-4f44-b3ca-9b6d9c835df0",
   "metadata": {},
   "outputs": [
    {
     "data": {
      "image/png": "[encoded data removed]",
      "text/plain": [
       "<Figure size 640x480 with 1 Axes>"
      ]
     },
     "metadata": {},
     "output_type": "display_data"
    }
   ],
   "source": [
    "ax = incidents_by_year.iloc[-1:].plot.bar()\n",
    "for container in ax.containers:\n",
    "    ax.bar_label(container)"
   ]
  },
  {
   "cell_type": "code",
   "execution_count": 242,
   "id": "f402b253-a283-4845-9120-6bd2378d64a5",
   "metadata": {},
   "outputs": [],
   "source": [
    "table = incidents_by_year.loc[:, incidents_by_year.columns.isin(['Year', 'Incidents'])]"
   ]
  },
  {
   "cell_type": "code",
   "execution_count": 243,
   "id": "8b9d1183-7060-4324-a2d7-ac0a35072131",
   "metadata": {},
   "outputs": [
    {
     "data": {
      "text/html": [
       "<div>\n",
       "<style scoped>\n",
       "    .dataframe tbody tr th:only-of-type {\n",
       "        vertical-align: middle;\n",
       "    }\n",
       "\n",
       "    .dataframe tbody tr th {\n",
       "        vertical-align: top;\n",
       "    }\n",
       "\n",
       "    .dataframe thead th {\n",
       "        text-align: right;\n",
       "    }\n",
       "</style>\n",
       "<table border=\"1\" class=\"dataframe\">\n",
       "  <thead>\n",
       "    <tr style=\"text-align: right;\">\n",
       "      <th>Year</th>\n",
       "    </tr>\n",
       "    <tr>\n",
       "      <th>Priority</th>\n",
       "    </tr>\n",
       "  </thead>\n",
       "  <tbody>\n",
       "    <tr>\n",
       "      <th>Critical</th>\n",
       "    </tr>\n",
       "    <tr>\n",
       "      <th>High</th>\n",
       "    </tr>\n",
       "    <tr>\n",
       "      <th>Highest</th>\n",
       "    </tr>\n",
       "    <tr>\n",
       "      <th>Low</th>\n",
       "    </tr>\n",
       "    <tr>\n",
       "      <th>Medium</th>\n",
       "    </tr>\n",
       "    <tr>\n",
       "      <th>Total</th>\n",
       "    </tr>\n",
       "    <tr>\n",
       "      <th>Incidents</th>\n",
       "    </tr>\n",
       "  </tbody>\n",
       "</table>\n",
       "</div>"
      ],
      "text/plain": [
       "Empty DataFrame\n",
       "Columns: []\n",
       "Index: [Critical, High, Highest, Low, Medium, Total, Incidents]"
      ]
     },
     "execution_count": 243,
     "metadata": {},
     "output_type": "execute_result"
    }
   ],
   "source": [
    "table"
   ]
  },
  {
   "cell_type": "code",
   "execution_count": 228,
   "id": "1cc11bfa-a019-47c1-aab1-1c350f3aad28",
   "metadata": {},
   "outputs": [
    {
     "data": {
      "text/plain": [
       "<AxesSubplot:xlabel='Year'>"
      ]
     },
     "execution_count": 228,
     "metadata": {},
     "output_type": "execute_result"
    },
    {
     "data": {
      "image/png": "[encoded data removed]",
      "text/plain": [
       "<Figure size 640x480 with 1 Axes>"
      ]
     },
     "metadata": {},
     "output_type": "display_data"
    }
   ],
   "source": [
    "table.plot(kind='bar')"
   ]
  },
  {
   "cell_type": "code",
   "execution_count": 215,
   "id": "a0dee62c-7302-4ed3-aab6-cd897a841a14",
   "metadata": {},
   "outputs": [
    {
     "data": {
      "text/plain": [
       "pandas.core.frame.DataFrame"
      ]
     },
     "execution_count": 215,
     "metadata": {},
     "output_type": "execute_result"
    }
   ],
   "source": [
    "type(table)"
   ]
  },
  {
   "cell_type": "code",
   "execution_count": 189,
   "id": "3792c8ca-c744-4fe8-a34f-ba5498fc39e8",
   "metadata": {},
   "outputs": [
    {
     "name": "stdout",
     "output_type": "stream",
     "text": [
      "<class 'pandas.core.frame.DataFrame'>\n",
      "Int64Index: 3 entries, 2020 to 2022\n",
      "Data columns (total 1 columns):\n",
      " #   Column     Non-Null Count  Dtype\n",
      "---  ------     --------------  -----\n",
      " 0   Incidents  3 non-null      int64\n",
      "dtypes: int64(1)\n",
      "memory usage: 48.0 bytes\n"
     ]
    }
   ],
   "source": [
    "table.info()"
   ]
  },
  {
   "cell_type": "code",
   "execution_count": 193,
   "id": "59ee2e20-aa70-4a3b-9127-6a60b9a6b63c",
   "metadata": {},
   "outputs": [
    {
     "data": {
      "text/plain": [
       "Index(['Incidents'], dtype='object', name='Priority')"
      ]
     },
     "execution_count": 193,
     "metadata": {},
     "output_type": "execute_result"
    }
   ],
   "source": [
    "table.columns"
   ]
  },
  {
   "cell_type": "code",
   "execution_count": 198,
   "id": "47492ef5-64f6-42af-a1bf-7415151b8afe",
   "metadata": {},
   "outputs": [
    {
     "data": {
      "text/html": [
       "<div>\n",
       "<style scoped>\n",
       "    .dataframe tbody tr th:only-of-type {\n",
       "        vertical-align: middle;\n",
       "    }\n",
       "\n",
       "    .dataframe tbody tr th {\n",
       "        vertical-align: top;\n",
       "    }\n",
       "\n",
       "    .dataframe thead th {\n",
       "        text-align: right;\n",
       "    }\n",
       "</style>\n",
       "<table border=\"1\" class=\"dataframe\">\n",
       "  <thead>\n",
       "    <tr style=\"text-align: right;\">\n",
       "      <th>Priority</th>\n",
       "      <th>Incidents</th>\n",
       "    </tr>\n",
       "    <tr>\n",
       "      <th>Year</th>\n",
       "      <th></th>\n",
       "    </tr>\n",
       "  </thead>\n",
       "  <tbody>\n",
       "    <tr>\n",
       "      <th>2020</th>\n",
       "      <td>15</td>\n",
       "    </tr>\n",
       "    <tr>\n",
       "      <th>2021</th>\n",
       "      <td>342</td>\n",
       "    </tr>\n",
       "    <tr>\n",
       "      <th>2022</th>\n",
       "      <td>177</td>\n",
       "    </tr>\n",
       "  </tbody>\n",
       "</table>\n",
       "</div>"
      ],
      "text/plain": [
       "Priority  Incidents\n",
       "Year               \n",
       "2020             15\n",
       "2021            342\n",
       "2022            177"
      ]
     },
     "execution_count": 198,
     "metadata": {},
     "output_type": "execute_result"
    }
   ],
   "source": [
    "table.sort_values(by = \"Year\")"
   ]
  },
  {
   "cell_type": "code",
   "execution_count": 199,
   "id": "8cb68054-3ba6-4edb-981b-ca828ba38c51",
   "metadata": {},
   "outputs": [
    {
     "data": {
      "text/plain": [
       "<AxesSubplot:ylabel='Year'>"
      ]
     },
     "execution_count": 199,
     "metadata": {},
     "output_type": "execute_result"
    },
    {
     "data": {
      "image/png": "[encoded data removed]",
      "text/plain": [
       "<Figure size 640x480 with 1 Axes>"
      ]
     },
     "metadata": {},
     "output_type": "display_data"
    }
   ],
   "source": [
    "table.sort_values(by = \"Year\").plot.barh(y='Incidents', color={\"green\"})"
   ]
  },
  {
   "cell_type": "code",
   "execution_count": null,
   "id": "311ca224-eded-4b0a-a768-7cc578cce896",
   "metadata": {},
   "outputs": [],
   "source": []
  }
 ],
 "metadata": {
  "kernelspec": {
   "display_name": "Python 3 (ipykernel)",
   "language": "python",
   "name": "python3"
  },
  "language_info": {
   "codemirror_mode": {
    "name": "ipython",
    "version": 3
   },
   "file_extension": ".py",
   "mimetype": "text/x-python",
   "name": "python",
   "nbconvert_exporter": "python",
   "pygments_lexer": "ipython3",
   "version": "3.9.13"
  }
 },
 "nbformat": 4,
 "nbformat_minor": 5
}
